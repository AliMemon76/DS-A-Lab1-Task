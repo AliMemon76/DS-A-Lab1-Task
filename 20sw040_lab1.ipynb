{
  "nbformat": 4,
  "nbformat_minor": 0,
  "metadata": {
    "colab": {
      "provenance": [],
      "authorship_tag": "ABX9TyNon7NmWLcEyrm8DL+JFFc8",
      "include_colab_link": true
    },
    "kernelspec": {
      "name": "python3",
      "display_name": "Python 3"
    },
    "language_info": {
      "name": "python"
    }
  },
  "cells": [
    {
      "cell_type": "markdown",
      "metadata": {
        "id": "view-in-github",
        "colab_type": "text"
      },
      "source": [
        "<a href=\"https://colab.research.google.com/github/AliMemon76/DS-A-Lab1-Task/blob/main/20sw040_lab1.ipynb\" target=\"_parent\"><img src=\"https://colab.research.google.com/assets/colab-badge.svg\" alt=\"Open In Colab\"/></a>"
      ]
    },
    {
      "cell_type": "markdown",
      "source": [
        "  Task 1"
      ],
      "metadata": {
        "id": "842ZzTC2W5fl"
      }
    },
    {
      "cell_type": "code",
      "execution_count": null,
      "metadata": {
        "colab": {
          "base_uri": "https://localhost:8080/"
        },
        "id": "XmpCzvBRRMWd",
        "outputId": "a9ad940a-30d7-47a2-b3a8-4cbc5e127128"
      },
      "outputs": [
        {
          "output_type": "stream",
          "name": "stdout",
          "text": [
            "My name is Ali and I am 20 years old.\n"
          ]
        }
      ],
      "source": [
        "name = \"Ali\"\n",
        "age = 20\n",
        "\n",
        "print(\"My name is {} and I am {} years old.\".format(name, age))"
      ]
    },
    {
      "cell_type": "markdown",
      "source": [
        "Task 2"
      ],
      "metadata": {
        "id": "MlWEgtKKcwde"
      }
    },
    {
      "cell_type": "markdown",
      "source": [
        "1 .capitalize(): Converts the first character of a string to uppercase."
      ],
      "metadata": {
        "id": "pMYHQukjcDCD"
      }
    },
    {
      "cell_type": "code",
      "source": [
        ">>> \"hello world\".capitalize()\n"
      ],
      "metadata": {
        "colab": {
          "base_uri": "https://localhost:8080/",
          "height": 35
        },
        "id": "1GN-eAn7ZE2k",
        "outputId": "f85eff09-1dfc-4c1e-e388-a3f245f4e5b5"
      },
      "execution_count": null,
      "outputs": [
        {
          "output_type": "execute_result",
          "data": {
            "text/plain": [
              "'Hello world'"
            ],
            "application/vnd.google.colaboratory.intrinsic+json": {
              "type": "string"
            }
          },
          "metadata": {},
          "execution_count": 17
        }
      ]
    },
    {
      "cell_type": "markdown",
      "source": [
        "2. center(): Centers a string within a specified width, padding with spaces on the left and right as needed."
      ],
      "metadata": {
        "id": "lF0V4iHocADE"
      }
    },
    {
      "cell_type": "code",
      "source": [
        ">>> \"hello world\".center(20)\n",
        "\n"
      ],
      "metadata": {
        "colab": {
          "base_uri": "https://localhost:8080/",
          "height": 35
        },
        "id": "gft8qdh1ZnIc",
        "outputId": "93d4ded2-b6df-4b3b-d946-3852714b9ff9"
      },
      "execution_count": null,
      "outputs": [
        {
          "output_type": "execute_result",
          "data": {
            "text/plain": [
              "'    hello world     '"
            ],
            "application/vnd.google.colaboratory.intrinsic+json": {
              "type": "string"
            }
          },
          "metadata": {},
          "execution_count": 18
        }
      ]
    },
    {
      "cell_type": "markdown",
      "source": [
        "3. count(): Counts the number of occurrences of a substring within a string."
      ],
      "metadata": {
        "id": "zOivb1vgb6od"
      }
    },
    {
      "cell_type": "code",
      "source": [
        ">>> \"hello world\".count(\"hello\")\n"
      ],
      "metadata": {
        "colab": {
          "base_uri": "https://localhost:8080/"
        },
        "id": "88Uz01XfZrne",
        "outputId": "9ac54696-63e0-4bd1-f76e-23ef52679061"
      },
      "execution_count": null,
      "outputs": [
        {
          "output_type": "execute_result",
          "data": {
            "text/plain": [
              "1"
            ]
          },
          "metadata": {},
          "execution_count": 15
        }
      ]
    },
    {
      "cell_type": "markdown",
      "source": [
        "4 .endswith(): Returns True if a string ends with a specified substring, False otherwise."
      ],
      "metadata": {
        "id": "O9RolF6Hb5MV"
      }
    },
    {
      "cell_type": "code",
      "source": [
        ">>> \"hello world\".endswith(\"world\")\n"
      ],
      "metadata": {
        "colab": {
          "base_uri": "https://localhost:8080/"
        },
        "id": "nwkud_b_Z3lP",
        "outputId": "3dfeee11-6b88-49d5-9733-8d355666c122"
      },
      "execution_count": null,
      "outputs": [
        {
          "output_type": "execute_result",
          "data": {
            "text/plain": [
              "True"
            ]
          },
          "metadata": {},
          "execution_count": 19
        }
      ]
    },
    {
      "cell_type": "markdown",
      "source": [
        "5. find(): Returns the index of the first occurrence of a substring within a string, or -1 if the substring is not found."
      ],
      "metadata": {
        "id": "FasG1JpAb1AM"
      }
    },
    {
      "cell_type": "code",
      "source": [
        ">>> \"hello world\".find(\"world\")\n"
      ],
      "metadata": {
        "colab": {
          "base_uri": "https://localhost:8080/"
        },
        "id": "ZZANX0r1Z8od",
        "outputId": "9268a3d0-e7a0-4a06-916c-c35e869fe427"
      },
      "execution_count": null,
      "outputs": [
        {
          "output_type": "execute_result",
          "data": {
            "text/plain": [
              "6"
            ]
          },
          "metadata": {},
          "execution_count": 20
        }
      ]
    },
    {
      "cell_type": "markdown",
      "source": [
        "6. format(): Formats a string using a specified format string."
      ],
      "metadata": {
        "id": "iqNSCCMlby9h"
      }
    },
    {
      "cell_type": "code",
      "source": [
        ">>> \"The value of pi is {0:.2f}\".format(3.1415926)\n"
      ],
      "metadata": {
        "colab": {
          "base_uri": "https://localhost:8080/",
          "height": 35
        },
        "id": "8kjea4dFaCnh",
        "outputId": "2bd8d5ef-5a1c-4a7c-d670-67f323d4a7fa"
      },
      "execution_count": null,
      "outputs": [
        {
          "output_type": "execute_result",
          "data": {
            "text/plain": [
              "'The value of pi is 3.14'"
            ],
            "application/vnd.google.colaboratory.intrinsic+json": {
              "type": "string"
            }
          },
          "metadata": {},
          "execution_count": 21
        }
      ]
    },
    {
      "cell_type": "markdown",
      "source": [
        "7. isalnum(): Returns True if a string is alphanumeric, False otherwise."
      ],
      "metadata": {
        "id": "TsCo_o7sbvUK"
      }
    },
    {
      "cell_type": "code",
      "source": [
        ">>> \"hello123\".isalnum()\n",
        "\n",
        ">>> \"hello world\".isalnum()\n"
      ],
      "metadata": {
        "colab": {
          "base_uri": "https://localhost:8080/"
        },
        "id": "v-ffLzTaaImq",
        "outputId": "2659a025-4aaf-40d4-90e8-a8a57c2540e7"
      },
      "execution_count": null,
      "outputs": [
        {
          "output_type": "execute_result",
          "data": {
            "text/plain": [
              "False"
            ]
          },
          "metadata": {},
          "execution_count": 22
        }
      ]
    },
    {
      "cell_type": "markdown",
      "source": [
        "8. isdigit(): Returns True if a string is numeric, False otherwise."
      ],
      "metadata": {
        "id": "qtBL8LWdbnTN"
      }
    },
    {
      "cell_type": "code",
      "source": [
        ">>> \"123\".isdigit()\n",
        "\n",
        ">>> \"hello123\".isdigit()\n"
      ],
      "metadata": {
        "colab": {
          "base_uri": "https://localhost:8080/"
        },
        "id": "h8smCQnfaPml",
        "outputId": "7e1a7e50-c3cb-4f3e-a809-c4fe813f4dd6"
      },
      "execution_count": null,
      "outputs": [
        {
          "output_type": "execute_result",
          "data": {
            "text/plain": [
              "False"
            ]
          },
          "metadata": {},
          "execution_count": 31
        }
      ]
    },
    {
      "cell_type": "markdown",
      "source": [
        "9. join(): Joins a sequence of strings together with a specified separator.\n"
      ],
      "metadata": {
        "id": "pwWHmOP6bifi"
      }
    },
    {
      "cell_type": "code",
      "source": [
        ">>> \", \".join([\"hello\", \"world\"])"
      ],
      "metadata": {
        "colab": {
          "base_uri": "https://localhost:8080/",
          "height": 35
        },
        "id": "ueM-ras5aWdB",
        "outputId": "8f07e391-0b0e-4b4b-8a41-b665901ab35f"
      },
      "execution_count": null,
      "outputs": [
        {
          "output_type": "execute_result",
          "data": {
            "text/plain": [
              "'hello, world'"
            ],
            "application/vnd.google.colaboratory.intrinsic+json": {
              "type": "string"
            }
          },
          "metadata": {},
          "execution_count": 32
        }
      ]
    },
    {
      "cell_type": "markdown",
      "source": [
        "10. len(): Returns the length of a string."
      ],
      "metadata": {
        "id": "WGWGjcarbd4A"
      }
    },
    {
      "cell_type": "code",
      "source": [
        ">>> len(\"hello world\")\n"
      ],
      "metadata": {
        "colab": {
          "base_uri": "https://localhost:8080/"
        },
        "id": "bKooKylEaaVO",
        "outputId": "6304f4f4-fc94-4b94-dd30-958394f1f126"
      },
      "execution_count": null,
      "outputs": [
        {
          "output_type": "execute_result",
          "data": {
            "text/plain": [
              "11"
            ]
          },
          "metadata": {},
          "execution_count": 33
        }
      ]
    },
    {
      "cell_type": "markdown",
      "source": [
        "11. lower(): Converts a string to lowercase"
      ],
      "metadata": {
        "id": "SW_FIMfLbWW0"
      }
    },
    {
      "cell_type": "code",
      "source": [
        ">>> \"HELLO WORLD\".lower()"
      ],
      "metadata": {
        "colab": {
          "base_uri": "https://localhost:8080/",
          "height": 35
        },
        "id": "Yhxk9-E8ae3Z",
        "outputId": "120f191d-8622-4815-b687-a2e3588e9cff"
      },
      "execution_count": null,
      "outputs": [
        {
          "output_type": "execute_result",
          "data": {
            "text/plain": [
              "'hello world'"
            ],
            "application/vnd.google.colaboratory.intrinsic+json": {
              "type": "string"
            }
          },
          "metadata": {},
          "execution_count": 34
        }
      ]
    },
    {
      "cell_type": "markdown",
      "source": [
        "12. replace():Replaces all occurrences of a substring within a string with a new substring."
      ],
      "metadata": {
        "id": "Z2RJCtcGbMqH"
      }
    },
    {
      "cell_type": "code",
      "source": [
        ">>> \"hello world\".replace(\"hello\", \"goodbye\")"
      ],
      "metadata": {
        "colab": {
          "base_uri": "https://localhost:8080/",
          "height": 35
        },
        "id": "YHd8li2daj8Z",
        "outputId": "b12a63bf-4e87-4b07-b6b4-5b07e526c56f"
      },
      "execution_count": null,
      "outputs": [
        {
          "output_type": "execute_result",
          "data": {
            "text/plain": [
              "'goodbye world'"
            ],
            "application/vnd.google.colaboratory.intrinsic+json": {
              "type": "string"
            }
          },
          "metadata": {},
          "execution_count": 30
        }
      ]
    },
    {
      "cell_type": "markdown",
      "source": [
        "13. split():splits a string into a list of substrings based on a specified separator."
      ],
      "metadata": {
        "id": "qvdoQb3ka0BE"
      }
    },
    {
      "cell_type": "code",
      "source": [
        ">>> \"hello world\".split(\" \")\n",
        "['hello', 'world']"
      ],
      "metadata": {
        "colab": {
          "base_uri": "https://localhost:8080/"
        },
        "id": "ldhDVc9Ral5P",
        "outputId": "7fbf91bd-28af-43a7-874b-c818ba84c9ce"
      },
      "execution_count": null,
      "outputs": [
        {
          "output_type": "execute_result",
          "data": {
            "text/plain": [
              "['hello', 'world']"
            ]
          },
          "metadata": {},
          "execution_count": 35
        }
      ]
    },
    {
      "cell_type": "markdown",
      "source": [
        "Task 3"
      ],
      "metadata": {
        "id": "A2pUl8SlXJd9"
      }
    },
    {
      "cell_type": "code",
      "source": [
        "month = 8\n",
        "days_in_month = [31, 28, 31, 30, 31, 30, 31, 31, 30, 31, 30, 31]\n",
        "\n",
        "# use list indexing to determine the number of days in month\n",
        "num_days = days_in_month[month - 1]\n",
        "\n",
        "print(num_days)\n"
      ],
      "metadata": {
        "colab": {
          "base_uri": "https://localhost:8080/"
        },
        "id": "yMkYT6B8VRc6",
        "outputId": "5b6089f4-9457-4488-b3a2-7aa377db0a04"
      },
      "execution_count": null,
      "outputs": [
        {
          "output_type": "stream",
          "name": "stdout",
          "text": [
            "31\n"
          ]
        }
      ]
    },
    {
      "cell_type": "markdown",
      "source": [
        "Task 4"
      ],
      "metadata": {
        "id": "3DqZzFyDXQiC"
      }
    },
    {
      "cell_type": "code",
      "source": [
        "eclipse_dates = ['June 21, 2001', 'December 4, 2002', 'November 23, 2003', 'March 29, 2006', 'August 1, 2008', 'July 22, 2009', 'July 11, 2010', 'November 13, 2012', 'March 20, 2015', 'March 9, 2016']\n",
        "\n",
        "# Select the three most recent dates from the list\n",
        "recent_dates = eclipse_dates[-3:]\n",
        "\n",
        "# Print the three most recent dates\n",
        "print(recent_dates)\n"
      ],
      "metadata": {
        "colab": {
          "base_uri": "https://localhost:8080/"
        },
        "id": "jrmdsc9mVVi7",
        "outputId": "0698f71c-d64e-469b-a11e-31952205174f"
      },
      "execution_count": null,
      "outputs": [
        {
          "output_type": "stream",
          "name": "stdout",
          "text": [
            "['November 13, 2012', 'March 20, 2015', 'March 9, 2016']\n"
          ]
        }
      ]
    },
    {
      "cell_type": "markdown",
      "source": [
        "TasK 5"
      ],
      "metadata": {
        "id": "1GVS234tXVua"
      }
    },
    {
      "cell_type": "code",
      "source": [
        "students = {\n",
        "  \"1\": {\n",
        "    \"name\": \"Ali Haider\",\n",
        "    \"age\": 20,\n",
        "    \"courses\": [\"Math\", \"English\", \"Science\"]\n",
        "  },\n",
        "  \"2\": {\n",
        "    \"name\": \"Ali\",\n",
        "    \"age\": 19,\n",
        "    \"courses\": [\"History\", \"Literature\", \"Art\"]\n",
        "  }\n",
        "}"
      ],
      "metadata": {
        "id": "hChkLiMiVyq4"
      },
      "execution_count": null,
      "outputs": []
    }
  ]
}